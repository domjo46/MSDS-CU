{
 "cells": [
  {
   "cell_type": "markdown",
   "metadata": {},
   "source": [
    "## Packages"
   ]
  },
  {
   "cell_type": "code",
   "execution_count": 1,
   "metadata": {},
   "outputs": [],
   "source": [
    "import pandas as pd\n",
    "import numpy as np\n",
    "\n",
    "from imblearn.over_sampling import SMOTE\n",
    "from sklearn.linear_model import LogisticRegression\n",
    "from sklearn.preprocessing import OneHotEncoder, MinMaxScaler\n",
    "from sklearn.decomposition import PCA\n",
    "from sklearn.ensemble import ExtraTreesClassifier\n",
    "from sklearn.model_selection import train_test_split, cross_val_score\n",
    "from sklearn.metrics import (\n",
    "    roc_curve, \n",
    "    roc_auc_score, \n",
    "    confusion_matrix,\n",
    "    accuracy_score,\n",
    "    classification_report\n",
    ")\n",
    "\n",
    "import matplotlib.pyplot as plt\n",
    "import seaborn as sns"
   ]
  },
  {
   "cell_type": "markdown",
   "metadata": {},
   "source": [
    "## Goal\n",
    "In this notebook, we will be looking at a classification problem of detecting online payments fraud online."
   ]
  },
  {
   "cell_type": "markdown",
   "metadata": {},
   "source": [
    "## Data"
   ]
  },
  {
   "cell_type": "markdown",
   "metadata": {},
   "source": [
    "The goal is to predict the isFraud column.\n",
    "\n",
    "Original Dataset: https://www.kaggle.com/datasets/vardhansiramdasu/fraudulent-transactions-prediction?sort=published\n",
    "\n",
    "|Variable |\tDescription|\n",
    "|:---------|:-------------|\n",
    "|step |maps a unit of time in the real world. In this case 1 step is 1 hour of time. Total steps 744 (30 days simulation)|\n",
    "|type| type of online transaction. CASH-IN, CASH-OUT, DEBIT, PAYMENT, TRANSFER\n",
    "|amount| the amount of the transaction in local currency\n",
    "|nameOrig| customer starting the transaction\n",
    "|oldbalanceOrg| balance before the transaction of the customer starting the transaction\n",
    "|newbalanceOrig| balance after the transaction of the customer starting the transaction\n",
    "|nameDest| recipient of the transaction\n",
    "|oldbalanceDest| initial balance recipient before the transaction. Note that there is not information for customers that start with M (Merchants).\n",
    "|newbalanceDest| new balance recipient after the transaction. Note that there is not information for customers that start with M (Merchants).\n",
    "|isFraud| This is the transactions made by the fraudulent agents inside the simulation. In this specific dataset the fraudulent behavior of the agents aims to profit by taking control or customers accounts and try to empty the funds by transferring to another account and then cashing out of the system. 1 for Fraud\n",
    "|isFlaggedFraud|The business model aims to control massive transfers from one account to another and flags illegal attempts. An illegal attempt in this dataset is an attempt to transfer more than 200.000 in a single transaction.|"
   ]
  },
  {
   "cell_type": "code",
   "execution_count": 2,
   "metadata": {},
   "outputs": [],
   "source": [
    "class OPF_data: \n",
    "    \n",
    "    def __init__(self, filename='./online_payment_fraud_data.csv', test_size=0.2):\n",
    "        \n",
    "        data = pd.read_csv(filename)\n",
    "        \n",
    "        test = data['isFraud']\n",
    "        train = data.loc[:,data.columns!='isFraud']\n",
    "        \n",
    "        self.X_train,self.X_test,self.y_train,self.y_test = train_test_split(\n",
    "            train,\n",
    "            test,\n",
    "            test_size=test_size,\n",
    "            random_state=42\n",
    "        )\n",
    "        \n",
    "data = OPF_data(test_size=0.2)\n",
    "X_train,y_train = data.X_train,data.y_train\n",
    "X_test,y_test = data.X_test, data.y_test"
   ]
  },
  {
   "cell_type": "markdown",
   "metadata": {},
   "source": [
    "## EDA"
   ]
  },
  {
   "cell_type": "markdown",
   "metadata": {},
   "source": [
    "#### First I am going to inspect the data, looking at number of features, the data type of the features, size of the data, if there any any missing values"
   ]
  },
  {
   "cell_type": "code",
   "execution_count": 3,
   "metadata": {},
   "outputs": [],
   "source": [
    "# Aesthetic settings for printing the tables\n",
    "pd.set_option('display.float_format','{:,.0f}'.format)\n",
    "\n",
    "# global variables\n",
    "FIGSIZE=(8,6)"
   ]
  },
  {
   "cell_type": "code",
   "execution_count": 4,
   "metadata": {},
   "outputs": [
    {
     "data": {
      "text/html": [
       "<div>\n",
       "<style scoped>\n",
       "    .dataframe tbody tr th:only-of-type {\n",
       "        vertical-align: middle;\n",
       "    }\n",
       "\n",
       "    .dataframe tbody tr th {\n",
       "        vertical-align: top;\n",
       "    }\n",
       "\n",
       "    .dataframe thead th {\n",
       "        text-align: right;\n",
       "    }\n",
       "</style>\n",
       "<table border=\"1\" class=\"dataframe\">\n",
       "  <thead>\n",
       "    <tr style=\"text-align: right;\">\n",
       "      <th></th>\n",
       "      <th>step</th>\n",
       "      <th>type</th>\n",
       "      <th>amount</th>\n",
       "      <th>nameOrig</th>\n",
       "      <th>oldbalanceOrg</th>\n",
       "      <th>newbalanceOrig</th>\n",
       "      <th>nameDest</th>\n",
       "      <th>oldbalanceDest</th>\n",
       "      <th>newbalanceDest</th>\n",
       "      <th>isFlaggedFraud</th>\n",
       "    </tr>\n",
       "  </thead>\n",
       "  <tbody>\n",
       "    <tr>\n",
       "      <th>6271196</th>\n",
       "      <td>619</td>\n",
       "      <td>CASH_IN</td>\n",
       "      <td>386,385</td>\n",
       "      <td>C421351828</td>\n",
       "      <td>4,669,569</td>\n",
       "      <td>5,055,954</td>\n",
       "      <td>C1977099364</td>\n",
       "      <td>506,035</td>\n",
       "      <td>119,650</td>\n",
       "      <td>0</td>\n",
       "    </tr>\n",
       "    <tr>\n",
       "      <th>1888243</th>\n",
       "      <td>164</td>\n",
       "      <td>CASH_IN</td>\n",
       "      <td>212,459</td>\n",
       "      <td>C83569848</td>\n",
       "      <td>234,635</td>\n",
       "      <td>447,094</td>\n",
       "      <td>C1690589535</td>\n",
       "      <td>806,038</td>\n",
       "      <td>593,579</td>\n",
       "      <td>0</td>\n",
       "    </tr>\n",
       "    <tr>\n",
       "      <th>5549957</th>\n",
       "      <td>382</td>\n",
       "      <td>PAYMENT</td>\n",
       "      <td>19,968</td>\n",
       "      <td>C852995095</td>\n",
       "      <td>3,634</td>\n",
       "      <td>0</td>\n",
       "      <td>M1695416333</td>\n",
       "      <td>0</td>\n",
       "      <td>0</td>\n",
       "      <td>0</td>\n",
       "    </tr>\n",
       "    <tr>\n",
       "      <th>2025342</th>\n",
       "      <td>180</td>\n",
       "      <td>CASH_OUT</td>\n",
       "      <td>527,617</td>\n",
       "      <td>C61761046</td>\n",
       "      <td>180,216</td>\n",
       "      <td>0</td>\n",
       "      <td>C577654587</td>\n",
       "      <td>92,157</td>\n",
       "      <td>619,774</td>\n",
       "      <td>0</td>\n",
       "    </tr>\n",
       "    <tr>\n",
       "      <th>682342</th>\n",
       "      <td>36</td>\n",
       "      <td>TRANSFER</td>\n",
       "      <td>206,068</td>\n",
       "      <td>C758004147</td>\n",
       "      <td>0</td>\n",
       "      <td>0</td>\n",
       "      <td>C2143015292</td>\n",
       "      <td>2,131,494</td>\n",
       "      <td>2,337,562</td>\n",
       "      <td>0</td>\n",
       "    </tr>\n",
       "  </tbody>\n",
       "</table>\n",
       "</div>"
      ],
      "text/plain": [
       "         step      type  amount    nameOrig  oldbalanceOrg  newbalanceOrig  \\\n",
       "6271196   619   CASH_IN 386,385  C421351828      4,669,569       5,055,954   \n",
       "1888243   164   CASH_IN 212,459   C83569848        234,635         447,094   \n",
       "5549957   382   PAYMENT  19,968  C852995095          3,634               0   \n",
       "2025342   180  CASH_OUT 527,617   C61761046        180,216               0   \n",
       "682342     36  TRANSFER 206,068  C758004147              0               0   \n",
       "\n",
       "            nameDest  oldbalanceDest  newbalanceDest  isFlaggedFraud  \n",
       "6271196  C1977099364         506,035         119,650               0  \n",
       "1888243  C1690589535         806,038         593,579               0  \n",
       "5549957  M1695416333               0               0               0  \n",
       "2025342   C577654587          92,157         619,774               0  \n",
       "682342   C2143015292       2,131,494       2,337,562               0  "
      ]
     },
     "execution_count": 4,
     "metadata": {},
     "output_type": "execute_result"
    }
   ],
   "source": [
    "X_train.head()"
   ]
  },
  {
   "cell_type": "code",
   "execution_count": 5,
   "metadata": {},
   "outputs": [
    {
     "name": "stdout",
     "output_type": "stream",
     "text": [
      "Training Data\n",
      "Features: 10\n",
      "Data Points: 5,090,096\n"
     ]
    }
   ],
   "source": [
    "print('Training Data')\n",
    "print(f'Features: {X_train.shape[1]:,}')\n",
    "print(f'Data Points: {X_train.shape[0]:,}')"
   ]
  },
  {
   "cell_type": "code",
   "execution_count": 6,
   "metadata": {},
   "outputs": [
    {
     "name": "stdout",
     "output_type": "stream",
     "text": [
      "<class 'pandas.core.frame.DataFrame'>\n",
      "Int64Index: 5090096 entries, 6271196 to 1692743\n",
      "Data columns (total 10 columns):\n",
      "step              int64\n",
      "type              object\n",
      "amount            float64\n",
      "nameOrig          object\n",
      "oldbalanceOrg     float64\n",
      "newbalanceOrig    float64\n",
      "nameDest          object\n",
      "oldbalanceDest    float64\n",
      "newbalanceDest    float64\n",
      "isFlaggedFraud    int64\n",
      "dtypes: float64(5), int64(2), object(3)\n",
      "memory usage: 427.2+ MB\n",
      "None\n"
     ]
    }
   ],
   "source": [
    "print(X_train.info())"
   ]
  },
  {
   "cell_type": "code",
   "execution_count": 7,
   "metadata": {},
   "outputs": [
    {
     "data": {
      "text/html": [
       "<div>\n",
       "<style scoped>\n",
       "    .dataframe tbody tr th:only-of-type {\n",
       "        vertical-align: middle;\n",
       "    }\n",
       "\n",
       "    .dataframe tbody tr th {\n",
       "        vertical-align: top;\n",
       "    }\n",
       "\n",
       "    .dataframe thead th {\n",
       "        text-align: right;\n",
       "    }\n",
       "</style>\n",
       "<table border=\"1\" class=\"dataframe\">\n",
       "  <thead>\n",
       "    <tr style=\"text-align: right;\">\n",
       "      <th></th>\n",
       "      <th>step</th>\n",
       "      <th>amount</th>\n",
       "      <th>oldbalanceOrg</th>\n",
       "      <th>newbalanceOrig</th>\n",
       "      <th>oldbalanceDest</th>\n",
       "      <th>newbalanceDest</th>\n",
       "      <th>isFlaggedFraud</th>\n",
       "    </tr>\n",
       "  </thead>\n",
       "  <tbody>\n",
       "    <tr>\n",
       "      <th>count</th>\n",
       "      <td>5,090,096</td>\n",
       "      <td>5,090,096</td>\n",
       "      <td>5,090,096</td>\n",
       "      <td>5,090,096</td>\n",
       "      <td>5,090,096</td>\n",
       "      <td>5,090,096</td>\n",
       "      <td>5,090,096</td>\n",
       "    </tr>\n",
       "    <tr>\n",
       "      <th>mean</th>\n",
       "      <td>243</td>\n",
       "      <td>179,758</td>\n",
       "      <td>833,389</td>\n",
       "      <td>854,564</td>\n",
       "      <td>1,099,593</td>\n",
       "      <td>1,223,768</td>\n",
       "      <td>0</td>\n",
       "    </tr>\n",
       "    <tr>\n",
       "      <th>std</th>\n",
       "      <td>142</td>\n",
       "      <td>601,618</td>\n",
       "      <td>2,886,947</td>\n",
       "      <td>2,922,632</td>\n",
       "      <td>3,391,912</td>\n",
       "      <td>3,666,375</td>\n",
       "      <td>0</td>\n",
       "    </tr>\n",
       "    <tr>\n",
       "      <th>min</th>\n",
       "      <td>1</td>\n",
       "      <td>0</td>\n",
       "      <td>0</td>\n",
       "      <td>0</td>\n",
       "      <td>0</td>\n",
       "      <td>0</td>\n",
       "      <td>0</td>\n",
       "    </tr>\n",
       "    <tr>\n",
       "      <th>25%</th>\n",
       "      <td>156</td>\n",
       "      <td>13,396</td>\n",
       "      <td>0</td>\n",
       "      <td>0</td>\n",
       "      <td>0</td>\n",
       "      <td>0</td>\n",
       "      <td>0</td>\n",
       "    </tr>\n",
       "    <tr>\n",
       "      <th>50%</th>\n",
       "      <td>239</td>\n",
       "      <td>74,865</td>\n",
       "      <td>14,181</td>\n",
       "      <td>0</td>\n",
       "      <td>132,690</td>\n",
       "      <td>214,518</td>\n",
       "      <td>0</td>\n",
       "    </tr>\n",
       "    <tr>\n",
       "      <th>75%</th>\n",
       "      <td>335</td>\n",
       "      <td>208,645</td>\n",
       "      <td>107,306</td>\n",
       "      <td>144,178</td>\n",
       "      <td>941,759</td>\n",
       "      <td>1,111,015</td>\n",
       "      <td>0</td>\n",
       "    </tr>\n",
       "    <tr>\n",
       "      <th>max</th>\n",
       "      <td>743</td>\n",
       "      <td>92,445,517</td>\n",
       "      <td>59,585,040</td>\n",
       "      <td>49,585,040</td>\n",
       "      <td>356,015,889</td>\n",
       "      <td>356,179,279</td>\n",
       "      <td>1</td>\n",
       "    </tr>\n",
       "  </tbody>\n",
       "</table>\n",
       "</div>"
      ],
      "text/plain": [
       "           step     amount  oldbalanceOrg  newbalanceOrig  oldbalanceDest  \\\n",
       "count 5,090,096  5,090,096      5,090,096       5,090,096       5,090,096   \n",
       "mean        243    179,758        833,389         854,564       1,099,593   \n",
       "std         142    601,618      2,886,947       2,922,632       3,391,912   \n",
       "min           1          0              0               0               0   \n",
       "25%         156     13,396              0               0               0   \n",
       "50%         239     74,865         14,181               0         132,690   \n",
       "75%         335    208,645        107,306         144,178         941,759   \n",
       "max         743 92,445,517     59,585,040      49,585,040     356,015,889   \n",
       "\n",
       "       newbalanceDest  isFlaggedFraud  \n",
       "count       5,090,096       5,090,096  \n",
       "mean        1,223,768               0  \n",
       "std         3,666,375               0  \n",
       "min                 0               0  \n",
       "25%                 0               0  \n",
       "50%           214,518               0  \n",
       "75%         1,111,015               0  \n",
       "max       356,179,279               1  "
      ]
     },
     "execution_count": 7,
     "metadata": {},
     "output_type": "execute_result"
    }
   ],
   "source": [
    "# Taking a look at some stats on the data\n",
    "X_train.describe()"
   ]
  },
  {
   "cell_type": "markdown",
   "metadata": {},
   "source": [
    "From the above, note that there are transaction with 0 amount which is weird for a bank transaction."
   ]
  },
  {
   "cell_type": "code",
   "execution_count": 8,
   "metadata": {},
   "outputs": [
    {
     "data": {
      "text/html": [
       "<div>\n",
       "<style scoped>\n",
       "    .dataframe tbody tr th:only-of-type {\n",
       "        vertical-align: middle;\n",
       "    }\n",
       "\n",
       "    .dataframe tbody tr th {\n",
       "        vertical-align: top;\n",
       "    }\n",
       "\n",
       "    .dataframe thead th {\n",
       "        text-align: right;\n",
       "    }\n",
       "</style>\n",
       "<table border=\"1\" class=\"dataframe\">\n",
       "  <thead>\n",
       "    <tr style=\"text-align: right;\">\n",
       "      <th></th>\n",
       "      <th>type</th>\n",
       "      <th>nameOrig</th>\n",
       "      <th>nameDest</th>\n",
       "    </tr>\n",
       "  </thead>\n",
       "  <tbody>\n",
       "    <tr>\n",
       "      <th>count</th>\n",
       "      <td>5090096</td>\n",
       "      <td>5090096</td>\n",
       "      <td>5090096</td>\n",
       "    </tr>\n",
       "    <tr>\n",
       "      <th>unique</th>\n",
       "      <td>5</td>\n",
       "      <td>5084151</td>\n",
       "      <td>2265727</td>\n",
       "    </tr>\n",
       "    <tr>\n",
       "      <th>top</th>\n",
       "      <td>CASH_OUT</td>\n",
       "      <td>C545315117</td>\n",
       "      <td>C1286084959</td>\n",
       "    </tr>\n",
       "    <tr>\n",
       "      <th>freq</th>\n",
       "      <td>1790588</td>\n",
       "      <td>3</td>\n",
       "      <td>91</td>\n",
       "    </tr>\n",
       "  </tbody>\n",
       "</table>\n",
       "</div>"
      ],
      "text/plain": [
       "            type    nameOrig     nameDest\n",
       "count    5090096     5090096      5090096\n",
       "unique         5     5084151      2265727\n",
       "top     CASH_OUT  C545315117  C1286084959\n",
       "freq     1790588           3           91"
      ]
     },
     "execution_count": 8,
     "metadata": {},
     "output_type": "execute_result"
    }
   ],
   "source": [
    "# Quick inspection of the non-numerical columns \n",
    "X_train.describe(include='object')"
   ]
  },
  {
   "cell_type": "markdown",
   "metadata": {},
   "source": [
    "Notice the above, there are almost twice as many more source destination than recipients."
   ]
  },
  {
   "cell_type": "code",
   "execution_count": 9,
   "metadata": {},
   "outputs": [
    {
     "data": {
      "text/plain": [
       "step              0\n",
       "type              0\n",
       "amount            0\n",
       "nameOrig          0\n",
       "oldbalanceOrg     0\n",
       "newbalanceOrig    0\n",
       "nameDest          0\n",
       "oldbalanceDest    0\n",
       "newbalanceDest    0\n",
       "isFlaggedFraud    0\n",
       "dtype: int64"
      ]
     },
     "execution_count": 9,
     "metadata": {},
     "output_type": "execute_result"
    }
   ],
   "source": [
    "# Check for null values\n",
    "nulls = X_train.isnull().sum()\n",
    "nulls"
   ]
  },
  {
   "cell_type": "markdown",
   "metadata": {},
   "source": [
    "From above, there does not appear to be any null values"
   ]
  },
  {
   "cell_type": "markdown",
   "metadata": {},
   "source": [
    "#### Next we are going to do so visualization and aggregation to extract some more information on the data"
   ]
  },
  {
   "cell_type": "code",
   "execution_count": 10,
   "metadata": {},
   "outputs": [
    {
     "name": "stdout",
     "output_type": "stream",
     "text": [
      "Fraud Percentage: 0.13%\n"
     ]
    }
   ],
   "source": [
    "# Let's first look at what percentage of our data is fraud\n",
    "print(f'Fraud Percentage: {y_train.sum()/y_train.shape[0]*100:0.2f}%')"
   ]
  },
  {
   "cell_type": "markdown",
   "metadata": {},
   "source": [
    "We see a very low percentage of the data is actually fraud. We may need to do some class balancing for this."
   ]
  },
  {
   "cell_type": "markdown",
   "metadata": {},
   "source": [
    "#### Evaluation of Numerical features"
   ]
  },
  {
   "cell_type": "code",
   "execution_count": 12,
   "metadata": {},
   "outputs": [
    {
     "name": "stdout",
     "output_type": "stream",
     "text": [
      "Numerical Features: ['step', 'amount', 'oldbalanceOrg', 'newbalanceOrig', 'oldbalanceDest', 'newbalanceDest']\n"
     ]
    }
   ],
   "source": [
    "numerical_features = X_train.select_dtypes(exclude='object').columns.tolist()\n",
    "# Manually remove isFlaggedFraud as this is a categorical variable\n",
    "numerical_features.remove('isFlaggedFraud')\n",
    "print('Numerical Features:',numerical_features)"
   ]
  },
  {
   "cell_type": "code",
   "execution_count": 13,
   "metadata": {},
   "outputs": [
    {
     "data": {
      "image/png": "[encoded data removed]",
      "text/plain": [
       "<Figure size 576x432 with 2 Axes>"
      ]
     },
     "metadata": {
      "needs_background": "light"
     },
     "output_type": "display_data"
    }
   ],
   "source": [
    "# Compute the correlation iteratively for faster computation\n",
    "corr_matrix = []\n",
    "for col1 in numerical_features:\n",
    "    corr = []\n",
    "    for col2 in numerical_features:\n",
    "        corr.append(X_train[col1].corr(X_train[col2]))\n",
    "    corr_matrix.append(corr)\n",
    "\n",
    "# Correlation matrix plot \n",
    "plt.figure(figsize=FIGSIZE)\n",
    "sns.heatmap(\n",
    "    corr_matrix,\n",
    "    annot=True,\n",
    "    xticklabels=numerical_features,\n",
    "    yticklabels=numerical_features\n",
    ")\n",
    "plt.show();"
   ]
  },
  {
   "cell_type": "markdown",
   "metadata": {},
   "source": [
    "From the above correlation matrix we can near perfect relationships between oldbanaceOrg with newbalanceOrig and oldbalanceDest with newbalanceDest. Intuitively this should be now surprise. This suggests though, we may be able to exclude one of each columns as they dependent on one another. "
   ]
  },
  {
   "cell_type": "code",
   "execution_count": 14,
   "metadata": {},
   "outputs": [],
   "source": [
    "# For each numerical column, lets see if fraud activities have an impact \n",
    "# on statistics of each variable\n",
    "# First preparing the data\n",
    "isFraud = y_train == 1\n",
    "tmp_data = X_train.join(y_train)"
   ]
  },
  {
   "cell_type": "code",
   "execution_count": 15,
   "metadata": {},
   "outputs": [
    {
     "data": {
      "image/png": "[encoded data removed]",
      "text/plain": [
       "<Figure size 576x432 with 1 Axes>"
      ]
     },
     "metadata": {
      "needs_background": "light"
     },
     "output_type": "display_data"
    }
   ],
   "source": [
    "# Plot Step \n",
    "col = 'step'\n",
    "plt.figure(figsize=FIGSIZE)\n",
    "sns.boxplot(data=tmp_data,x='isFraud',y=col)\n",
    "plt.ylim(\n",
    "    tmp_data.loc[isFraud,col].quantile(0.2),\n",
    "    tmp_data.loc[isFraud,col].quantile(0.8)\n",
    ")\n",
    "plt.show();"
   ]
  },
  {
   "cell_type": "code",
   "execution_count": 16,
   "metadata": {},
   "outputs": [
    {
     "data": {
      "image/png": "[encoded data removed]",
      "text/plain": [
       "<Figure size 576x432 with 1 Axes>"
      ]
     },
     "metadata": {
      "needs_background": "light"
     },
     "output_type": "display_data"
    }
   ],
   "source": [
    "# Plot Step \n",
    "col = 'amount'\n",
    "plt.figure(figsize=FIGSIZE)\n",
    "sns.boxplot(data=tmp_data,x='isFraud',y=col)\n",
    "plt.ylim(\n",
    "    tmp_data.loc[~isFraud,col].quantile(0.1),\n",
    "    tmp_data.loc[isFraud,col].quantile(0.8)\n",
    ")\n",
    "plt.show();"
   ]
  },
  {
   "cell_type": "code",
   "execution_count": 17,
   "metadata": {},
   "outputs": [
    {
     "data": {
      "image/png": "[encoded data removed]",
      "text/plain": [
       "<Figure size 576x432 with 1 Axes>"
      ]
     },
     "metadata": {
      "needs_background": "light"
     },
     "output_type": "display_data"
    }
   ],
   "source": [
    "# Plot Step \n",
    "col = 'oldbalanceOrg'\n",
    "plt.figure(figsize=FIGSIZE)\n",
    "sns.boxplot(data=tmp_data,x='isFraud',y=col)\n",
    "plt.ylim(\n",
    "    tmp_data.loc[~isFraud,col].quantile(0.2),\n",
    "    tmp_data.loc[isFraud,col].quantile(0.8)\n",
    ")\n",
    "plt.show();"
   ]
  },
  {
   "cell_type": "code",
   "execution_count": 18,
   "metadata": {},
   "outputs": [
    {
     "name": "stderr",
     "output_type": "stream",
     "text": [
      "/Users/dominicjo/.pyenv/versions/anaconda3-2019.03/lib/python3.7/site-packages/matplotlib/pyplot.py:1479: UserWarning: Attempting to set identical bottom==top results\n",
      "in singular transformations; automatically expanding.\n",
      "bottom=0.0, top=0.0\n",
      "  ret = ax.set_ylim(*args, **kwargs)\n"
     ]
    },
    {
     "data": {
      "image/png": "[encoded data removed]",
      "text/plain": [
       "<Figure size 576x432 with 1 Axes>"
      ]
     },
     "metadata": {
      "needs_background": "light"
     },
     "output_type": "display_data"
    }
   ],
   "source": [
    "# Plot Step \n",
    "col = 'newbalanceOrig'\n",
    "plt.figure(figsize=FIGSIZE)\n",
    "sns.boxplot(data=tmp_data,x='isFraud',y=col)\n",
    "plt.ylim(\n",
    "    tmp_data.loc[~isFraud,col].quantile(0.2),\n",
    "    tmp_data.loc[isFraud,col].quantile(0.8)\n",
    ")\n",
    "plt.show();"
   ]
  },
  {
   "cell_type": "code",
   "execution_count": 19,
   "metadata": {},
   "outputs": [
    {
     "data": {
      "image/png": "[encoded data removed]",
      "text/plain": [
       "<Figure size 576x432 with 1 Axes>"
      ]
     },
     "metadata": {
      "needs_background": "light"
     },
     "output_type": "display_data"
    }
   ],
   "source": [
    "# Plot Step \n",
    "col = 'oldbalanceDest'\n",
    "plt.figure(figsize=FIGSIZE)\n",
    "sns.boxplot(data=tmp_data,x='isFraud',y=col)\n",
    "plt.ylim(\n",
    "    tmp_data.loc[isFraud,col].quantile(0.2),\n",
    "    tmp_data.loc[~isFraud,col].quantile(0.8)\n",
    ")\n",
    "plt.show();"
   ]
  },
  {
   "cell_type": "code",
   "execution_count": 20,
   "metadata": {},
   "outputs": [
    {
     "data": {
      "image/png": "[encoded data removed]",
      "text/plain": [
       "<Figure size 576x432 with 1 Axes>"
      ]
     },
     "metadata": {
      "needs_background": "light"
     },
     "output_type": "display_data"
    }
   ],
   "source": [
    "# Plot Step \n",
    "col = 'newbalanceDest'\n",
    "plt.figure(figsize=FIGSIZE)\n",
    "sns.boxplot(data=tmp_data,x='isFraud',y=col)\n",
    "plt.ylim(\n",
    "    tmp_data.loc[isFraud,col].quantile(0.2),\n",
    "    tmp_data.loc[~isFraud,col].quantile(0.8)\n",
    ")\n",
    "plt.show();"
   ]
  },
  {
   "cell_type": "markdown",
   "metadata": {},
   "source": [
    "From the above box plots, no surprises here, but the account of a fraudulent activity is typically much higher than the average prior to sending the money out while the destination account is typically has less than average balance in it to start. This could potentially indicate the thefts target higher amount accounts with dummy accounts."
   ]
  },
  {
   "cell_type": "markdown",
   "metadata": {},
   "source": [
    "#### Evaluation of the categorical variables"
   ]
  },
  {
   "cell_type": "code",
   "execution_count": 21,
   "metadata": {},
   "outputs": [
    {
     "name": "stdout",
     "output_type": "stream",
     "text": [
      "Categorical Variables: ['type', 'nameOrig', 'nameDest', 'isFlaggedFraud']\n"
     ]
    }
   ],
   "source": [
    "categorical_features = X_train.select_dtypes('object').columns.tolist()\n",
    "categorical_features.append('isFlaggedFraud')\n",
    "print('Categorical Variables:',categorical_features)"
   ]
  },
  {
   "cell_type": "code",
   "execution_count": 22,
   "metadata": {},
   "outputs": [
    {
     "data": {
      "image/png": "[encoded data removed]",
      "text/plain": [
       "<Figure size 576x432 with 1 Axes>"
      ]
     },
     "metadata": {
      "needs_background": "light"
     },
     "output_type": "display_data"
    },
    {
     "data": {
      "image/png": "[encoded data removed]",
      "text/plain": [
       "<Figure size 576x432 with 1 Axes>"
      ]
     },
     "metadata": {
      "needs_background": "light"
     },
     "output_type": "display_data"
    }
   ],
   "source": [
    "# Visualizing inspecting the transaction types\n",
    "plt.figure(figsize=FIGSIZE)\n",
    "sns.countplot(X_train['type']);\n",
    "plt.title('Transaction Type Count')\n",
    "plt.show();\n",
    "\n",
    "# What type of transactions are the scammers involved in\n",
    "type_to_fraud = X_train.join(y_train).groupby(['type']).sum()['isFraud']\n",
    "type_to_fraud = type_to_fraud.reset_index()\n",
    "\n",
    "plt.figure(figsize=FIGSIZE)\n",
    "sns.barplot(x='type',y='isFraud',data=type_to_fraud)\n",
    "plt.show();"
   ]
  },
  {
   "cell_type": "code",
   "execution_count": 23,
   "metadata": {},
   "outputs": [
    {
     "data": {
      "image/png": "[encoded data removed]",
      "text/plain": [
       "<Figure size 576x432 with 2 Axes>"
      ]
     },
     "metadata": {
      "needs_background": "light"
     },
     "output_type": "display_data"
    }
   ],
   "source": [
    "# Inspection of isFlaggedFraud \n",
    "# Of all actual frauds, how often does isFlaggedFraud catches it \n",
    "isFraud = y_train==1\n",
    "cm = confusion_matrix(X_train.loc[isFraud,'isFlaggedFraud'],y_train[isFraud])\n",
    "\n",
    "plt.figure(figsize=FIGSIZE)\n",
    "sns.heatmap(cm/cm.sum(),annot=True)\n",
    "plt.show();"
   ]
  },
  {
   "cell_type": "markdown",
   "metadata": {},
   "source": [
    "Can see from the above, the isFraudFlagged indicator (indicator of a large transaction) does not do a very good job at predicting whether a transaction is fraud as indicated by the percentage of actual fraud captured of 0.2%."
   ]
  },
  {
   "cell_type": "markdown",
   "metadata": {},
   "source": [
    "#### Observations\n",
    "- No missing data\n",
    "- The number of fraudulent activities is very small, 0.13%. This might suggest some class balancing.\n",
    "- Fraudulent activities were either CASH-OUT or TRANSFER which should come to no surprise.\n",
    "- Account balances of sender and recipients before and after transaction are highly related and so we may not need both columns\n",
    "- Accounts that are typically targeted are those with higher than average balances in them\n",
    "- Accounts that receive the funds are typically accounts with lower than average balances\n",
    "- Transactions with 0 amount were all fraudulent.\n",
    "- There were many more source accounts than destination accounts\n",
    "- The amount variables have very large ranges indicating some transformation of the data may be necessary"
   ]
  },
  {
   "cell_type": "markdown",
   "metadata": {},
   "source": [
    "#### Feature Selection"
   ]
  },
  {
   "cell_type": "markdown",
   "metadata": {},
   "source": [
    "We are going to be performing some feature selection on the numerical variables. For categorical variables we will use only type while the account in which they come from will be dropped. Reason being, we see the typ may play a factor and while the account may also as well, given the large number of accounts, it may not be a very useful feature. "
   ]
  },
  {
   "cell_type": "markdown",
   "metadata": {},
   "source": [
    "We first select the number of features to use using Principal Component Analysis"
   ]
  },
  {
   "cell_type": "code",
   "execution_count": 24,
   "metadata": {},
   "outputs": [
    {
     "name": "stdout",
     "output_type": "stream",
     "text": [
      "[0.5893913  0.39630117 0.01283007 0.00124136]\n",
      "Variance captures by top 2: 98.6%\n"
     ]
    }
   ],
   "source": [
    "numerical_features = ['step','amount','oldbalanceOrg','newbalanceOrig','oldbalanceDest','newbalanceDest']\n",
    "array = X_train.loc[:,numerical_features]\n",
    "pca = PCA(n_components=4)\n",
    "fit = pca.fit(array)\n",
    "print(f'{fit.explained_variance_ratio_}')\n",
    "print(f'Variance captures by top 2: {100*sum(fit.explained_variance_ratio_[:2]):0.1f}%')"
   ]
  },
  {
   "cell_type": "markdown",
   "metadata": {},
   "source": [
    "We can see two features account for 98.6% of variation, so we will take the top two features. To determine the top 2 features I use decision trees to derive feature importance."
   ]
  },
  {
   "cell_type": "code",
   "execution_count": 25,
   "metadata": {},
   "outputs": [
    {
     "name": "stdout",
     "output_type": "stream",
     "text": [
      "Feature Importance:\n",
      "step                |0.183\n",
      "amount              |0.207\n",
      "oldbalanceOrg       |0.335\n",
      "newbalanceOrig      |0.094\n",
      "oldbalanceDest      |0.053\n",
      "newbalanceDest      |0.128\n"
     ]
    }
   ],
   "source": [
    "etc = ExtraTreesClassifier(n_estimators=10)\n",
    "etc.fit(X_train.loc[:,numerical_features],y_train)\n",
    "print('Feature Importance:')\n",
    "for i in range(len(numerical_features)):\n",
    "    print(f'{numerical_features[i]:<20}|{etc.feature_importances_[i]:0.3f}')"
   ]
  },
  {
   "cell_type": "markdown",
   "metadata": {},
   "source": [
    "## Preprocessing"
   ]
  },
  {
   "cell_type": "markdown",
   "metadata": {},
   "source": [
    "From the previous observations there were a few things we are going to attempt to put into the model. The **type** variable is an important factor as it only 2 type of transactions are part of fraud. The other categorical variables appears to be not necessary as they are the account numbers. Next given the large range of some of the columns we are going to scale these features as certain models such as logistics regression perform worse otherwise. We will use normalization over standardization given the large amount of outliers, it'll likely still have large values. Finally, with the low event rate of a fraud, we are going to use SMOTE to balance the classes.\n",
    "\n",
    "Things we will do below:\n",
    "- Feature Engineer\n",
    "    - Encode the type columns \n",
    "- Normalize numerical features \n",
    "- Balance the classes using SMOTE\n",
    "- Remove unused columns "
   ]
  },
  {
   "cell_type": "code",
   "execution_count": 26,
   "metadata": {},
   "outputs": [],
   "source": [
    "def process(X,y,smote,remove_features=[]): \n",
    "    \n",
    "    X_ = X.copy()\n",
    "    y_ = y.copy()\n",
    "    \n",
    "    # Encode the labels \n",
    "    ohe = OneHotEncoder().fit(X_['type'].values.reshape(-1,1))\n",
    "    ohe_df = pd.DataFrame(\n",
    "        ohe.transform(X_['type'].values.reshape(-1,1)).toarray(),\n",
    "        columns=ohe.categories_[0],\n",
    "        index=X_.index\n",
    "    )\n",
    "    X_ = X_.join(ohe_df)\n",
    "    \n",
    "    # Normalization of data\n",
    "    numerical_features = X_.select_dtypes(exclude='object').columns.tolist()\n",
    "    numerical_features.remove('isFlaggedFraud')    \n",
    "\n",
    "    mms = MinMaxScaler()\n",
    "    mms.fit(X_.loc[:,numerical_features])\n",
    "    X_.loc[:,numerical_features] = pd.DataFrame(\n",
    "        mms.transform(X_.loc[:,numerical_features]),\n",
    "        columns=numerical_features,\n",
    "        index=X_.index\n",
    "    )\n",
    "        \n",
    "    # Drop unused features\n",
    "    X_.drop(remove_features,axis=1,inplace=True)\n",
    "    \n",
    "    # Class Balancing \n",
    "    if smote: \n",
    "        smo = SMOTE(random_state=42)\n",
    "        X_df, y_df = smo.fit_sample(X_,y_)\n",
    "        X_df = pd.DataFrame(X_df,columns=X_.columns)\n",
    "        y_df = pd.Series(y_df,name=y_.name)\n",
    "        return X_df,y_df\n",
    "    else: \n",
    "        return X_, y_"
   ]
  },
  {
   "cell_type": "code",
   "execution_count": 27,
   "metadata": {},
   "outputs": [
    {
     "name": "stderr",
     "output_type": "stream",
     "text": [
      "/Users/dominicjo/.pyenv/versions/anaconda3-2019.03/lib/python3.7/site-packages/sklearn/preprocessing/data.py:334: DataConversionWarning: Data with input dtype int64, float64 were all converted to float64 by MinMaxScaler.\n",
      "  return self.partial_fit(X, y)\n"
     ]
    }
   ],
   "source": [
    "features_to_remove = ['type','nameOrig','nameDest','step','newbalanceOrig','oldbalanceDest','newbalanceDest']\n",
    "X_train2,y_train2 = process(X_train,y_train,True,features_to_remove)"
   ]
  },
  {
   "cell_type": "markdown",
   "metadata": {},
   "source": [
    "## Model"
   ]
  },
  {
   "cell_type": "markdown",
   "metadata": {},
   "source": [
    "#### Training Data"
   ]
  },
  {
   "cell_type": "code",
   "execution_count": 28,
   "metadata": {},
   "outputs": [],
   "source": [
    "model = LogisticRegression(solver='lbfgs')\n",
    "model.fit(X_train2,y_train2);"
   ]
  },
  {
   "cell_type": "code",
   "execution_count": 29,
   "metadata": {},
   "outputs": [
    {
     "name": "stderr",
     "output_type": "stream",
     "text": [
      "/Users/dominicjo/.pyenv/versions/anaconda3-2019.03/lib/python3.7/site-packages/sklearn/linear_model/logistic.py:758: ConvergenceWarning: lbfgs failed to converge. Increase the number of iterations.\n",
      "  \"of iterations.\", ConvergenceWarning)\n"
     ]
    },
    {
     "name": "stdout",
     "output_type": "stream",
     "text": [
      "Mean Score on Training Set: 0.91\n"
     ]
    }
   ],
   "source": [
    "print(f'Mean Score on Training Set: {np.mean(cross_val_score(model,X_train2,y_train2,cv=4)):0.2f}');"
   ]
  },
  {
   "cell_type": "code",
   "execution_count": 30,
   "metadata": {},
   "outputs": [],
   "source": [
    "# Training Data\n",
    "y_train2_pred = model.predict(X_train2)\n",
    "y_train2_prob = model.predict_proba(X_train2)\n",
    "y_train2_prob = np.array([x[1] for x in y_train2_prob])"
   ]
  },
  {
   "cell_type": "code",
   "execution_count": 31,
   "metadata": {},
   "outputs": [
    {
     "data": {
      "text/plain": [
       "array([[4715410,  527090],\n",
       "       [ 368093, 4556413]])"
      ]
     },
     "execution_count": 31,
     "metadata": {},
     "output_type": "execute_result"
    }
   ],
   "source": [
    "# Confusion Matrix\n",
    "cm = confusion_matrix(y_train2_pred,y_train2)\n",
    "cm"
   ]
  },
  {
   "cell_type": "code",
   "execution_count": 32,
   "metadata": {},
   "outputs": [
    {
     "data": {
      "image/png": "[encoded data removed]",
      "text/plain": [
       "<Figure size 576x432 with 1 Axes>"
      ]
     },
     "metadata": {
      "needs_background": "light"
     },
     "output_type": "display_data"
    }
   ],
   "source": [
    "# ROC Curve \n",
    "# Training Data\n",
    "fp_train2, tp_train2, threshold = roc_curve(y_train2,y_train2_prob,pos_label=1)\n",
    "auc_train2 = roc_auc_score(y_train2,y_train2_pred)\n",
    "\n",
    "# Plot\n",
    "plt.figure(figsize=FIGSIZE)\n",
    "ax = plt.gca()\n",
    "plt.plot(fp_train2,tp_train2,label=f'Training AUC={auc_train2:0.3f}')\n",
    "plt.legend()\n",
    "\n",
    "plt.title('ROC Curve')\n",
    "plt.ylabel('True Positive Rate')\n",
    "plt.xlabel('False Positive Rate')\n",
    "\n",
    "# 50% line\n",
    "plt.plot(fp_train2,fp_train2,label='AUC=0.5',linestyle='--')\n",
    "\n",
    "plt.show();"
   ]
  },
  {
   "cell_type": "markdown",
   "metadata": {},
   "source": [
    "The results so far is pretty good, but from the above feature importance, we also noticed step and amount having very similar feature importance. I'm going to try and improve the model once by setting a higher threshold for the PCA analysis of 99% explained variance ratio. This will lead to a 3 factors being included in the model. "
   ]
  },
  {
   "cell_type": "code",
   "execution_count": 33,
   "metadata": {},
   "outputs": [
    {
     "name": "stderr",
     "output_type": "stream",
     "text": [
      "/Users/dominicjo/.pyenv/versions/anaconda3-2019.03/lib/python3.7/site-packages/sklearn/preprocessing/data.py:334: DataConversionWarning: Data with input dtype int64, float64 were all converted to float64 by MinMaxScaler.\n",
      "  return self.partial_fit(X, y)\n"
     ]
    },
    {
     "data": {
      "text/plain": [
       "LogisticRegression(C=1.0, class_weight=None, dual=False, fit_intercept=True,\n",
       "          intercept_scaling=1, max_iter=100, multi_class='warn',\n",
       "          n_jobs=None, penalty='l2', random_state=None, solver='lbfgs',\n",
       "          tol=0.0001, verbose=0, warm_start=False)"
      ]
     },
     "execution_count": 33,
     "metadata": {},
     "output_type": "execute_result"
    }
   ],
   "source": [
    "features_to_remove = ['type','nameOrig','nameDest','newbalanceOrig','oldbalanceDest','newbalanceDest']\n",
    "X_train3,y_train3 = process(X_train,y_train,True,features_to_remove)\n",
    "\n",
    "model2 = LogisticRegression(solver='lbfgs')\n",
    "model2.fit(X_train3,y_train3)"
   ]
  },
  {
   "cell_type": "code",
   "execution_count": 44,
   "metadata": {},
   "outputs": [
    {
     "name": "stderr",
     "output_type": "stream",
     "text": [
      "/Users/dominicjo/.pyenv/versions/anaconda3-2019.03/lib/python3.7/site-packages/sklearn/linear_model/logistic.py:758: ConvergenceWarning: lbfgs failed to converge. Increase the number of iterations.\n",
      "  \"of iterations.\", ConvergenceWarning)\n"
     ]
    },
    {
     "name": "stdout",
     "output_type": "stream",
     "text": [
      "Mean Score on Training Set: 0.92\n"
     ]
    }
   ],
   "source": [
    "print(f'Mean Score on Training Set: {np.mean(cross_val_score(model2,X_train3,y_train3,cv=4)):0.2f}');"
   ]
  },
  {
   "cell_type": "code",
   "execution_count": 35,
   "metadata": {},
   "outputs": [],
   "source": [
    "# Training Data\n",
    "y_train3_pred = model2.predict(X_train3)\n",
    "y_train3_prob = model2.predict_proba(X_train3)\n",
    "y_train3_prob = np.array([x[1] for x in y_train3_prob])"
   ]
  },
  {
   "cell_type": "code",
   "execution_count": 36,
   "metadata": {},
   "outputs": [
    {
     "data": {
      "text/plain": [
       "array([[4712467,  404924],\n",
       "       [ 371036, 4678579]])"
      ]
     },
     "execution_count": 36,
     "metadata": {},
     "output_type": "execute_result"
    }
   ],
   "source": [
    "# Confusion Matrix\n",
    "cm = confusion_matrix(y_train3_pred,y_train3)\n",
    "cm"
   ]
  },
  {
   "cell_type": "code",
   "execution_count": 37,
   "metadata": {},
   "outputs": [
    {
     "data": {
      "image/png": "[encoded data removed]",
      "text/plain": [
       "<Figure size 576x432 with 1 Axes>"
      ]
     },
     "metadata": {
      "needs_background": "light"
     },
     "output_type": "display_data"
    }
   ],
   "source": [
    "# ROC Curve \n",
    "# Training Data 3\n",
    "fp_train3, tp_train3, threshold = roc_curve(y_train3,y_train3_prob,pos_label=1)\n",
    "auc_train3 = roc_auc_score(y_train3,y_train3_pred)\n",
    "\n",
    "# Plot\n",
    "plt.figure(figsize=FIGSIZE)\n",
    "ax = plt.gca()\n",
    "plt.plot(fp_train3,tp_train3,label=f'Training AUC={auc_train3:0.3f}')\n",
    "plt.legend()\n",
    "\n",
    "plt.title('ROC Curve')\n",
    "plt.ylabel('True Positive Rate')\n",
    "plt.xlabel('False Positive Rate')\n",
    "\n",
    "# 50% line\n",
    "plt.plot(fp_train3,fp_train3,label='AUC=0.5',linestyle='--')\n",
    "\n",
    "plt.show();"
   ]
  },
  {
   "cell_type": "markdown",
   "metadata": {},
   "source": [
    "There does not appear to be a large improvement adding in the additional feature as the accuracy is still about 92% while the AUC score slightly increases to 0.92 from 0.91. As a result we will opt for the simpler model, of only two numerical variables and the one hot encoded type variable. Overall results are still promising being above 90%."
   ]
  },
  {
   "cell_type": "markdown",
   "metadata": {},
   "source": [
    "#### Testing"
   ]
  },
  {
   "cell_type": "code",
   "execution_count": 38,
   "metadata": {},
   "outputs": [
    {
     "name": "stderr",
     "output_type": "stream",
     "text": [
      "/Users/dominicjo/.pyenv/versions/anaconda3-2019.03/lib/python3.7/site-packages/sklearn/preprocessing/data.py:334: DataConversionWarning: Data with input dtype int64, float64 were all converted to float64 by MinMaxScaler.\n",
      "  return self.partial_fit(X, y)\n"
     ]
    }
   ],
   "source": [
    "# Preparing the testing data\n",
    "features_to_remove = ['type','nameOrig','nameDest','step','newbalanceOrig','oldbalanceDest','newbalanceDest']\n",
    "X_test2,y_test2 = process(X_test,y_test,False,features_to_remove)"
   ]
  },
  {
   "cell_type": "code",
   "execution_count": 45,
   "metadata": {},
   "outputs": [
    {
     "name": "stdout",
     "output_type": "stream",
     "text": [
      "Mean Score on Test Set: 1.00\n"
     ]
    }
   ],
   "source": [
    "print(f'Mean Score on Test Set: {np.mean(cross_val_score(model,X_test2,y_test2,cv=4)):0.2f}');"
   ]
  },
  {
   "cell_type": "code",
   "execution_count": 46,
   "metadata": {},
   "outputs": [],
   "source": [
    "# Test Data\n",
    "y_test2_pred = model.predict(X_test2)\n",
    "y_test2_prob = model.predict_proba(X_test2)\n",
    "y_test2_prob = np.array([x[1] for x in y_test2_prob])"
   ]
  },
  {
   "cell_type": "code",
   "execution_count": 47,
   "metadata": {},
   "outputs": [
    {
     "data": {
      "image/png": "[encoded data removed]",
      "text/plain": [
       "<Figure size 576x432 with 1 Axes>"
      ]
     },
     "metadata": {
      "needs_background": "light"
     },
     "output_type": "display_data"
    }
   ],
   "source": [
    "# ROC Curve \n",
    "\n",
    "# Test Data\n",
    "fp_test2, tp_test2, threshold = roc_curve(y_test2,y_test2_prob,pos_label=1)\n",
    "auc_test2 = roc_auc_score(y_test2,y_test2_pred)\n",
    "\n",
    "# Plot\n",
    "plt.figure(figsize=FIGSIZE)\n",
    "ax = plt.gca()\n",
    "plt.plot(fp_train2,tp_train2,label=f'Training AUC={auc_train2:0.3f}')\n",
    "plt.plot(fp_test2,tp_test2,label=f'Testing AUC={auc_test2:0.3f}')\n",
    "plt.legend()\n",
    "\n",
    "plt.title('ROC Curve')\n",
    "plt.ylabel('True Positive Rate')\n",
    "plt.xlabel('False Positive Rate')\n",
    "\n",
    "# 50% line\n",
    "plt.plot(fp_train2,fp_train2,label='AUC=0.5',linestyle='--')\n",
    "\n",
    "plt.show();"
   ]
  },
  {
   "cell_type": "markdown",
   "metadata": {},
   "source": [
    "## Discussion and Conclusion"
   ]
  },
  {
   "cell_type": "code",
   "execution_count": 48,
   "metadata": {},
   "outputs": [],
   "source": [
    "# Final parameters"
   ]
  },
  {
   "cell_type": "code",
   "execution_count": 81,
   "metadata": {},
   "outputs": [
    {
     "name": "stdout",
     "output_type": "stream",
     "text": [
      "Final Model Summary: Logistic Regression\n",
      "--------------------------------------------------------------------------------\n",
      "intercept           |   -96.7\n",
      "amount              |  -334.9\n",
      "oldbalanceOrg       |   511.8\n",
      "isFlaggedFraud      |     0.8\n",
      "CASH_IN             |  -182.0\n",
      "CASH_OUT            |    96.2\n",
      "DEBIT               |     0.8\n",
      "PAYMENT             |   -24.0\n",
      "TRANSFER            |    97.9\n"
     ]
    }
   ],
   "source": [
    "print('Final Model Summary: Logistic Regression')\n",
    "print('-'*80)\n",
    "print('intercept           |   -96.7')\n",
    "for var,coef in zip(X_train2.columns,model.coef_[0]):\n",
    "    print(f'{var:<20}|{coef:>8.1f}')"
   ]
  },
  {
   "cell_type": "markdown",
   "metadata": {},
   "source": [
    "Overall results are quite good as indicated by the ROC Curve and the accuracy. Earlier the PCA method indicated only two variables should be used despite the decision tree indicating feature importance of three variables. This could likely be from the the data being non-linear and some transformation on the data might be useful to apply on it first. Regardless though, the overall performance is quite good with the training set and ROC Curve at about 90%. The cross validated with 4 folds shows a close to 100% accuracy on the test set which is an indication the testing set size may be too small for the data given the lack of balancing on the testing data."
   ]
  }
 ],
 "metadata": {
  "kernelspec": {
   "display_name": "Python 3",
   "language": "python",
   "name": "python3"
  },
  "language_info": {
   "codemirror_mode": {
    "name": "ipython",
    "version": 3
   },
   "file_extension": ".py",
   "mimetype": "text/x-python",
   "name": "python",
   "nbconvert_exporter": "python",
   "pygments_lexer": "ipython3",
   "version": "3.7.3"
  }
 },
 "nbformat": 4,
 "nbformat_minor": 2
}
